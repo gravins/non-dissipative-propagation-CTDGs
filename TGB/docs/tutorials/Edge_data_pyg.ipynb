{
 "cells": [
  {
   "cell_type": "markdown",
   "id": "d5e3f5a2",
   "metadata": {},
   "source": [
    "# Access edge data in Pytorch Geometric\n",
    "\n",
    "This tutorial will show you how to access various datasets and their corresponding edgelists in `tgb`\n",
    "\n",
    "The logic for PyG data is stored in `dataset_pyg.py` in `tgb/linkproppred` and `tgb/nodeproppred` folders\n",
    "\n",
    "This tutorial requires `Pytorch` and `PyG`, refer to `README.md` for installation instructions"
   ]
  },
  {
   "cell_type": "code",
   "execution_count": 1,
   "id": "23f00c08",
   "metadata": {},
   "outputs": [],
   "source": [
    "from tgb.linkproppred.dataset_pyg import PyGLinkPropPredDataset"
   ]
  },
  {
   "cell_type": "markdown",
   "id": "60e52b7b",
   "metadata": {},
   "source": [
    "specifying the name of the dataset"
   ]
  },
  {
   "cell_type": "code",
   "execution_count": 2,
   "id": "48888070",
   "metadata": {},
   "outputs": [],
   "source": [
    "name = \"tgbl-wiki\""
   ]
  },
  {
   "cell_type": "markdown",
   "id": "3511804a",
   "metadata": {},
   "source": [
    "### Process and load the dataset\n",
    "\n",
    "if the dataset has been processed, it will be loaded from disc for fast access\n",
    "\n",
    "if the dataset has not been downloaded, it will be processed automatically"
   ]
  },
  {
   "cell_type": "code",
   "execution_count": 3,
   "id": "8486fa82",
   "metadata": {},
   "outputs": [
    {
     "name": "stdout",
     "output_type": "stream",
     "text": [
      "file found, skipping download\n",
      "Dataset directory is  /mnt/f/code/TGB/tgb/datasets/tgbl_wiki\n",
      "loading processed file\n"
     ]
    },
    {
     "data": {
      "text/plain": [
       "tgb.linkproppred.dataset_pyg.PyGLinkPropPredDataset"
      ]
     },
     "execution_count": 3,
     "metadata": {},
     "output_type": "execute_result"
    }
   ],
   "source": [
    "dataset = PyGLinkPropPredDataset(name=name, root=\"datasets\")\n",
    "type(dataset)"
   ]
  },
  {
   "cell_type": "markdown",
   "id": "47c949b4",
   "metadata": {},
   "source": [
    "### Access edge data from TemporalData object \n",
    "\n",
    "You can retrieve `torch_geometric.data.temporal.TemporalData` directly from `PyGLinkPropPredDataset`"
   ]
  },
  {
   "cell_type": "code",
   "execution_count": 4,
   "id": "9e4e7421",
   "metadata": {},
   "outputs": [
    {
     "data": {
      "text/plain": [
       "torch_geometric.data.temporal.TemporalData"
      ]
     },
     "execution_count": 4,
     "metadata": {},
     "output_type": "execute_result"
    }
   ],
   "source": [
    "data = dataset.get_TemporalData()\n",
    "type(data)"
   ]
  },
  {
   "cell_type": "code",
   "execution_count": 5,
   "id": "c6ec9ac0",
   "metadata": {},
   "outputs": [
    {
     "data": {
      "text/plain": [
       "torch.Tensor"
      ]
     },
     "execution_count": 5,
     "metadata": {},
     "output_type": "execute_result"
    }
   ],
   "source": [
    "type(data.src)\n",
    "type(data.dst)\n",
    "type(data.t)\n",
    "type(data.msg)"
   ]
  },
  {
   "cell_type": "markdown",
   "id": "52fd601f",
   "metadata": {},
   "source": [
    "### Directly access edge data as Pytorch tensors\n",
    "\n",
    "the edge data can be easily accessed via the property of the method, these are converted into pytorch tensors (from `PyGLinkPropPredDataset`)"
   ]
  },
  {
   "cell_type": "code",
   "execution_count": 6,
   "id": "56fb3347",
   "metadata": {},
   "outputs": [
    {
     "data": {
      "text/plain": [
       "torch.Tensor"
      ]
     },
     "execution_count": 6,
     "metadata": {},
     "output_type": "execute_result"
    }
   ],
   "source": [
    "type(dataset.src)  #same as src from above\n",
    "type(dataset.dst)  #same as dst\n",
    "type(dataset.ts)  #same as t\n",
    "type(dataset.edge_feat) #same as msg\n",
    "type(dataset.edge_label) #same as label used in tgn"
   ]
  },
  {
   "cell_type": "markdown",
   "id": "bb1bbfd6",
   "metadata": {},
   "source": [
    "### Accessing the train, test, val split\n",
    "\n",
    "the masks for training, validation, and test split can be accessed directly from the `dataset` as well"
   ]
  },
  {
   "cell_type": "code",
   "execution_count": 7,
   "id": "8cd3507c",
   "metadata": {},
   "outputs": [
    {
     "data": {
      "text/plain": [
       "torch.Tensor"
      ]
     },
     "execution_count": 7,
     "metadata": {},
     "output_type": "execute_result"
    }
   ],
   "source": [
    "train_mask = dataset.train_mask\n",
    "val_mask = dataset.val_mask\n",
    "test_mask = dataset.test_mask\n",
    "\n",
    "type(train_mask)\n",
    "type(val_mask)\n",
    "type(test_mask)"
   ]
  },
  {
   "cell_type": "code",
   "execution_count": null,
   "id": "9d6ed432",
   "metadata": {},
   "outputs": [],
   "source": []
  }
 ],
 "metadata": {
  "kernelspec": {
   "display_name": "Python 3 (ipykernel)",
   "language": "python",
   "name": "python3"
  },
  "language_info": {
   "codemirror_mode": {
    "name": "ipython",
    "version": 3
   },
   "file_extension": ".py",
   "mimetype": "text/x-python",
   "name": "python",
   "nbconvert_exporter": "python",
   "pygments_lexer": "ipython3",
   "version": "3.9.16"
  }
 },
 "nbformat": 4,
 "nbformat_minor": 5
}
