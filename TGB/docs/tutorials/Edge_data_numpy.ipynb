{
 "cells": [
  {
   "cell_type": "markdown",
   "id": "d5e3f5a2",
   "metadata": {},
   "source": [
    "# Access edge data as numpy arrays\n",
    "\n",
    "This tutorial will show you how to access various datasets and their corresponding edgelists in `tgb`\n",
    "\n",
    "You can directly retrieve the edge data as `numpy` arrays, `PyG` and `Pytorch` dependencies are not necessary\n",
    "\n",
    "The logic is implemented in `dataset.py` under `tgb/linkproppred/` and `tgb/nodeproppred/` folders respectively\n"
   ]
  },
  {
   "cell_type": "code",
   "execution_count": 1,
   "id": "23f00c08",
   "metadata": {},
   "outputs": [],
   "source": [
    "from tgb.linkproppred.dataset import LinkPropPredDataset"
   ]
  },
  {
   "cell_type": "markdown",
   "id": "60e52b7b",
   "metadata": {},
   "source": [
    "specifying the name of the dataset"
   ]
  },
  {
   "cell_type": "code",
   "execution_count": 2,
   "id": "48888070",
   "metadata": {},
   "outputs": [],
   "source": [
    "name = \"tgbl-wiki\" "
   ]
  },
  {
   "cell_type": "markdown",
   "id": "3511804a",
   "metadata": {},
   "source": [
    "### process and loading the dataset\n",
    "\n",
    "if the dataset has been processed, it will be loaded from disc for fast access\n",
    "\n",
    "if the dataset has not been downloaded, it will be processed automatically"
   ]
  },
  {
   "cell_type": "code",
   "execution_count": 3,
   "id": "8486fa82",
   "metadata": {},
   "outputs": [
    {
     "name": "stdout",
     "output_type": "stream",
     "text": [
      "Will you download the dataset(s) now? (y/N)\n",
      "y\n",
      "\u001b[93mDownload started, this might take a while . . . \u001b[0m\n",
      "Dataset title: tgbl-wiki\n",
      "\u001b[92mDownload completed \u001b[0m\n",
      "Dataset directory is  /mnt/f/code/TGB/tgb/datasets/tgbl_wiki\n",
      "file not processed, generating processed file\n"
     ]
    },
    {
     "data": {
      "text/plain": [
       "tgb.linkproppred.dataset.LinkPropPredDataset"
      ]
     },
     "execution_count": 3,
     "metadata": {},
     "output_type": "execute_result"
    }
   ],
   "source": [
    "dataset = LinkPropPredDataset(name=name, root=\"datasets\", preprocess=True)\n",
    "type(dataset)"
   ]
  },
  {
   "cell_type": "markdown",
   "id": "47c949b4",
   "metadata": {},
   "source": [
    "### Accessing the edge data\n",
    "\n",
    "the edge data can be easily accessed via the property of the method as `numpy` arrays "
   ]
  },
  {
   "cell_type": "code",
   "execution_count": 4,
   "id": "9e4e7421",
   "metadata": {},
   "outputs": [
    {
     "data": {
      "text/plain": [
       "dict"
      ]
     },
     "execution_count": 4,
     "metadata": {},
     "output_type": "execute_result"
    }
   ],
   "source": [
    "data = dataset.full_data  #a dictioinary stores all the edge data\n",
    "type(data) "
   ]
  },
  {
   "cell_type": "code",
   "execution_count": 5,
   "id": "c6ec9ac0",
   "metadata": {},
   "outputs": [
    {
     "data": {
      "text/plain": [
       "numpy.ndarray"
      ]
     },
     "execution_count": 5,
     "metadata": {},
     "output_type": "execute_result"
    }
   ],
   "source": [
    "type(data['sources'])\n",
    "type(data['destinations'])\n",
    "type(data['timestamps'])\n",
    "type(data['edge_feat'])\n",
    "type(data['w'])\n",
    "type(data['edge_label']) #just all one array as all edges in the dataset are positive edges\n",
    "type(data['edge_idxs']) #just index of the edges increment by 1 for each edge"
   ]
  },
  {
   "cell_type": "markdown",
   "id": "bb1bbfd6",
   "metadata": {},
   "source": [
    "### Accessing the train, test, val split\n",
    "\n",
    "the masks for training, validation, and test split can be accessed directly from the `dataset` as well"
   ]
  },
  {
   "cell_type": "code",
   "execution_count": 6,
   "id": "8cd3507c",
   "metadata": {},
   "outputs": [
    {
     "data": {
      "text/plain": [
       "numpy.ndarray"
      ]
     },
     "execution_count": 6,
     "metadata": {},
     "output_type": "execute_result"
    }
   ],
   "source": [
    "train_mask = dataset.train_mask\n",
    "val_mask = dataset.val_mask\n",
    "test_mask = dataset.test_mask\n",
    "\n",
    "type(train_mask)\n",
    "type(val_mask)\n",
    "type(test_mask)"
   ]
  },
  {
   "cell_type": "code",
   "execution_count": null,
   "id": "cf5eff06",
   "metadata": {},
   "outputs": [],
   "source": []
  }
 ],
 "metadata": {
  "kernelspec": {
   "display_name": "Python 3 (ipykernel)",
   "language": "python",
   "name": "python3"
  },
  "language_info": {
   "codemirror_mode": {
    "name": "ipython",
    "version": 3
   },
   "file_extension": ".py",
   "mimetype": "text/x-python",
   "name": "python",
   "nbconvert_exporter": "python",
   "pygments_lexer": "ipython3",
   "version": "3.9.16"
  }
 },
 "nbformat": 4,
 "nbformat_minor": 5
}
