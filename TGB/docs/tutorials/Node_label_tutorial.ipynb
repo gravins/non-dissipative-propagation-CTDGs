{
 "cells": [
  {
   "cell_type": "markdown",
   "id": "d5e3f5a2",
   "metadata": {},
   "source": [
    "# Access node labels for Dynamic Node Property Prediction\n",
    "\n",
    "This tutorial will show you how to access node labels and edge data for the node property prediction datasets in `tgb`.\n",
    "\n",
    "The source code is stored in `dataset_pyg.py` in `tgb/nodeproppred` folder\n",
    "\n",
    "This tutorial requires `Pytorch` and `PyG`, refer to `README.md` for installation instructions\n",
    "\n",
    "This tutorial uses `PyG TemporalData` object, however it is possible to use `numpy` arrays as well.\n",
    "\n",
    "see examples in `examples/nodeproppred` folder for more details.\n"
   ]
  },
  {
   "cell_type": "code",
   "execution_count": 1,
   "id": "23f00c08",
   "metadata": {},
   "outputs": [],
   "source": [
    "from tgb.nodeproppred.dataset_pyg import PyGNodePropPredDataset\n",
    "from torch_geometric.loader import TemporalDataLoader"
   ]
  },
  {
   "cell_type": "markdown",
   "id": "60e52b7b",
   "metadata": {},
   "source": [
    "specifying the name of the dataset"
   ]
  },
  {
   "cell_type": "code",
   "execution_count": 2,
   "id": "48888070",
   "metadata": {},
   "outputs": [],
   "source": [
    "name = \"tgbn-genre\""
   ]
  },
  {
   "cell_type": "markdown",
   "id": "3511804a",
   "metadata": {},
   "source": [
    "### Process and load the dataset\n",
    "\n",
    "if the dataset has been processed, it will be loaded from disc for fast access\n",
    "\n",
    "if the dataset has not been downloaded, it will be processed automatically"
   ]
  },
  {
   "cell_type": "code",
   "execution_count": 3,
   "id": "8486fa82",
   "metadata": {},
   "outputs": [
    {
     "name": "stdout",
     "output_type": "stream",
     "text": [
      "file found, skipping download\n",
      "Dataset directory is  /mnt/f/code/TGB/tgb/datasets/tgbn_genre\n",
      "loading processed file\n"
     ]
    },
    {
     "data": {
      "text/plain": [
       "tgb.nodeproppred.dataset_pyg.PyGNodePropPredDataset"
      ]
     },
     "execution_count": 3,
     "metadata": {},
     "output_type": "execute_result"
    }
   ],
   "source": [
    "dataset = PyGNodePropPredDataset(name=name, root=\"datasets\")\n",
    "type(dataset)"
   ]
  },
  {
   "cell_type": "markdown",
   "id": "31338262",
   "metadata": {},
   "source": [
    "### Train, Validation and Test splits with dataloaders\n",
    "\n",
    "spliting the edges into train, val, test sets and construct dataloader for each"
   ]
  },
  {
   "cell_type": "code",
   "execution_count": 4,
   "id": "27b4f6a1",
   "metadata": {},
   "outputs": [],
   "source": [
    "train_mask = dataset.train_mask\n",
    "val_mask = dataset.val_mask\n",
    "test_mask = dataset.test_mask\n",
    "\n",
    "\n",
    "data = dataset.get_TemporalData()\n",
    "\n",
    "train_data = data[train_mask]\n",
    "val_data = data[val_mask]\n",
    "test_data = data[test_mask]\n",
    "\n",
    "batch_size = 200\n",
    "train_loader = TemporalDataLoader(train_data, batch_size=batch_size)\n",
    "val_loader = TemporalDataLoader(val_data, batch_size=batch_size)\n",
    "test_loader = TemporalDataLoader(test_data, batch_size=batch_size)\n"
   ]
  },
  {
   "cell_type": "markdown",
   "id": "47c949b4",
   "metadata": {},
   "source": [
    "### Access node label data \n",
    "\n",
    "In `tgb`, the node label data are queried based on the nearest edge observed so far and retrieves the node label data for the corresponding day. \n",
    "\n",
    "Note that this is because the node labels often have different timestamps from the edges thus should be processed at the correct time in the edge stream.\n",
    "\n",
    "In the example below, we show how to iterate through the edges and retrieve the node labels of the corresponding time. "
   ]
  },
  {
   "cell_type": "code",
   "execution_count": 5,
   "id": "9e4e7421",
   "metadata": {},
   "outputs": [],
   "source": [
    "#query the timestamps for the first node labels\n",
    "label_t = dataset.get_label_time()\n",
    "\n",
    "for batch in train_loader:\n",
    "    #access the edges in this batch\n",
    "    src, dst, t, msg = batch.src, batch.dst, batch.t, batch.msg\n",
    "    query_t = batch.t[-1]\n",
    "    # check if this batch moves to the next day\n",
    "    if query_t > label_t:\n",
    "        # find the node labels from the past day\n",
    "        label_tuple = dataset.get_node_label(query_t)\n",
    "        # node labels are structured as a tuple with (timestamps, source node, label) format, label is a vector\n",
    "        label_ts, label_srcs, labels = (\n",
    "            label_tuple[0],\n",
    "            label_tuple[1],\n",
    "            label_tuple[2],\n",
    "        )\n",
    "        label_t = dataset.get_label_time()\n",
    "\n",
    "        #insert your code for backproping with node labels here\n",
    "            "
   ]
  }
 ],
 "metadata": {
  "kernelspec": {
   "display_name": "Python 3 (ipykernel)",
   "language": "python",
   "name": "python3"
  },
  "language_info": {
   "codemirror_mode": {
    "name": "ipython",
    "version": 3
   },
   "file_extension": ".py",
   "mimetype": "text/x-python",
   "name": "python",
   "nbconvert_exporter": "python",
   "pygments_lexer": "ipython3",
   "version": "3.9.16"
  }
 },
 "nbformat": 4,
 "nbformat_minor": 5
}
